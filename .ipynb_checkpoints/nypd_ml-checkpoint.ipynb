{
 "cells": [
  {
   "cell_type": "markdown",
   "metadata": {},
   "source": [
    "# Summary of Findings\n",
    "\n",
    "\n",
    "### Introduction\n",
    "    This project explores the NYPD allegations dataset. The NYPD allegations dataset contains 12,000 civillian complaints filed against New York City police officers. Our principal question of interest is a classification problem: How can we predict the gender of the complainant given the other features within the dataset? After exploring the data and seeing multiple classifications of gender, we ultimately decided to focus our gender prediction on binary gender, males and females. For our target variable, we used complainant gender consisting of males and females. For our evaluation metric, we figured we would use the accuracy score of our model to see what proportion of predictions the model got correct compared to the actual outcomes in our NYPD allegations dataset. We used this metric to evaluate how successful the features we used were in predicting the outcomes of complainant gender.\n",
    "\n",
    "### Baseline Model\n",
    "    We performed some modifications to the original dataset. Primarily we cleaned the dataset so the values were valid for our model. However, we did perform one specific modification where we replaced the months and years recieved and closed with a complaint_length column where its the total number of days between the date where the complaint started and ended. For our model, we used 8 features from the dataset. We used 3 quantitiative features: 'mos_age_incident', 'complainant_age_incident', and 'complaint_length'. Our model used 5 nominal features:'allegation', 'outcome_description', 'mos_ethnicity', 'mos_gender', and 'complainant_ethnicity'. Our model did not use any ordinal features. Our baseline model used a decision tree classifier and we split the data into 70:30 proportions for training and test sets respectively. We used accuracy as our evaluation metric and from fitting on the training set, we got a test accuracy of 0.813845966662611 from the baseline model. This accuracy seems good especially since we did not apply any improvements on the model (ex. hyperparameter tuning or transformations).     \n",
    "\n",
    "### Final Model\n",
    "    Our improved model uses some modifications to the original. Added three new features to the model. We deicded to standard scale the mos_age_incident, complainant_age_incident, and the complaint_length. For example, the average age of complainants and mos are both 32, but complainants have cases where their age really small, such as 0 or 1. As such these values may skew our predictions. In the same logic, complainant length has many outliers on both sides of the distribution, so through standardizing, we believe our model may perform better. In addition to these new engineered features, we also decided to go with a random forest classifier instead of our decision tree classifer. While decision trees are easier to intepret and train, at times they can weigh certain sets of features more than others. However, random forests select the features randomly during training which means that random forests do not depend as signficantly on a specific set of features the same way deicsion trees do. As such, we believe using a random forest classifier would lead to better predictions than our original baseline model. Lastly, we performed gridsearch cross validation (5 folds) on the following parameters of random forest classifier: max_depth, min_samples_split, and min_samples_leaf. We found None, 3, and 10 for max_depth, min_samples_split, and min_samples_leaf respecitvely to be the optimal parameters from grid search cross validation. Our final model achieved a test accuracy of 0.8295413067283125. This is approximately a 2% improvement from the baseline model. Interestly enough, we also fitted an intermediate model where we added the new features and changed to random forest classifier and performed much better than using the optimal parameters from grid search cross validation. This intermediate pipeline got a test accuracy of 0.8431682686458206. More than a 1% improvement from the final model and a 3% improvement from the baseline model. We are not sure why this happended but are rather perplexed. \n",
    "\n",
    "### Fairness Evaluation\n",
    "    In the last part of our solution, we evaluated the fairness of our final model. In order to do so, we had to pick an interesting feature from our dataset. After looking at all the different possibilities, we decided to use the feature complainant_age_incident. Before we conducted the permutation test, we looked at the predictions of our classification model on the test set. With these predictions and the actual outcomes in the test set, we created a confusion matrix, that allowed us to see the percentage of true positives, true negatives, false positives, and false negatives. We confirmed our accuracy score of 0.83233970 by adding the true positive and true negative scores. Afterwards, with complainant age as our interesting subset, we wanted to explore whether our final model is fairer for younger or older people. We binarized this subset by putting an age threshold at 30, deeming everyone younger than 30 as 'young' and everyone older as 'old'.\n",
    "    \n",
    "    Now that our dataset is split into subsets, we used the accuracy parity and found scores of 0.795178 for old people and 0.862488 for young people. This meant that our final model could correctly predict around roughly 6 percent more young people compared to old people. Finally, we conducted our permutation test for gender across young and old age groups. Our null hypothesis is that our model is fair; the accuracy for our two subsets are the same. Our alternative hypothesis is that our model is unfair; the accuracy for the old subset is higher than the young subset. We first calculated an accuracy observed test statistic of 0.06731035582578437. Then, we used our binarized data of complainant age, predictions, and the actual outcomes to conduct the permutation test using the differences and with N as 1000. We discovered that our observed test statistic is greater than 100% of the differences resulted in our permutation test. Thus, our p-value is 0, and we reject the null hypothesis. Ultimately, we do not have convincing evidence to conclude that our model is fair, and that our accuracy for our two subsets are roughly the same."
   ]
  },
  {
   "cell_type": "markdown",
   "metadata": {},
   "source": [
    "# Code"
   ]
  },
  {
   "cell_type": "code",
   "execution_count": 1,
   "metadata": {},
   "outputs": [],
   "source": [
    "import matplotlib.pyplot as plt\n",
    "import numpy as np\n",
    "import os\n",
    "import pandas as pd\n",
    "import seaborn as sns\n",
    "%matplotlib inline\n",
    "%config InlineBackend.figure_format = 'retina'  # Higher resolution figures"
   ]
  },
  {
   "cell_type": "code",
   "execution_count": 2,
   "metadata": {},
   "outputs": [],
   "source": [
    "# Importing sklearn functions\n",
    "from sklearn.ensemble import RandomForestClassifier\n",
    "from sklearn.preprocessing import FunctionTransformer\n",
    "from sklearn.preprocessing import OneHotEncoder\n",
    "from sklearn.pipeline import Pipeline\n",
    "from sklearn.compose import ColumnTransformer\n",
    "from sklearn.model_selection import train_test_split\n",
    "from sklearn.neighbors import KNeighborsRegressor\n",
    "from sklearn.tree import DecisionTreeClassifier\n",
    "from sklearn.model_selection import GridSearchCV\n",
    "from sklearn import metrics\n",
    "from sklearn.preprocessing import StandardScaler\n",
    "from sklearn.preprocessing import Binarizer\n",
    "from sklearn.base import BaseEstimator, TransformerMixin"
   ]
  },
  {
   "cell_type": "markdown",
   "metadata": {},
   "source": [
    "### Reading in the data"
   ]
  },
  {
   "cell_type": "code",
   "execution_count": 3,
   "metadata": {},
   "outputs": [],
   "source": [
    "# Reading in the Dataset\n",
    "data_fp = os.path.join('data','allegations.csv')\n",
    "data = pd.read_csv(data_fp)"
   ]
  },
  {
   "cell_type": "code",
   "execution_count": 4,
   "metadata": {},
   "outputs": [
    {
     "data": {
      "text/html": [
       "<div>\n",
       "<style scoped>\n",
       "    .dataframe tbody tr th:only-of-type {\n",
       "        vertical-align: middle;\n",
       "    }\n",
       "\n",
       "    .dataframe tbody tr th {\n",
       "        vertical-align: top;\n",
       "    }\n",
       "\n",
       "    .dataframe thead th {\n",
       "        text-align: right;\n",
       "    }\n",
       "</style>\n",
       "<table border=\"1\" class=\"dataframe\">\n",
       "  <thead>\n",
       "    <tr style=\"text-align: right;\">\n",
       "      <th></th>\n",
       "      <th>unique_mos_id</th>\n",
       "      <th>first_name</th>\n",
       "      <th>last_name</th>\n",
       "      <th>command_now</th>\n",
       "      <th>shield_no</th>\n",
       "      <th>complaint_id</th>\n",
       "      <th>month_received</th>\n",
       "      <th>year_received</th>\n",
       "      <th>month_closed</th>\n",
       "      <th>year_closed</th>\n",
       "      <th>...</th>\n",
       "      <th>mos_age_incident</th>\n",
       "      <th>complainant_ethnicity</th>\n",
       "      <th>complainant_gender</th>\n",
       "      <th>complainant_age_incident</th>\n",
       "      <th>fado_type</th>\n",
       "      <th>allegation</th>\n",
       "      <th>precinct</th>\n",
       "      <th>contact_reason</th>\n",
       "      <th>outcome_description</th>\n",
       "      <th>board_disposition</th>\n",
       "    </tr>\n",
       "  </thead>\n",
       "  <tbody>\n",
       "    <tr>\n",
       "      <th>0</th>\n",
       "      <td>10004</td>\n",
       "      <td>Jonathan</td>\n",
       "      <td>Ruiz</td>\n",
       "      <td>078 PCT</td>\n",
       "      <td>8409</td>\n",
       "      <td>42835</td>\n",
       "      <td>7</td>\n",
       "      <td>2019</td>\n",
       "      <td>5</td>\n",
       "      <td>2020</td>\n",
       "      <td>...</td>\n",
       "      <td>32</td>\n",
       "      <td>Black</td>\n",
       "      <td>Female</td>\n",
       "      <td>38.0</td>\n",
       "      <td>Abuse of Authority</td>\n",
       "      <td>Failure to provide RTKA card</td>\n",
       "      <td>78.0</td>\n",
       "      <td>Report-domestic dispute</td>\n",
       "      <td>No arrest made or summons issued</td>\n",
       "      <td>Substantiated (Command Lvl Instructions)</td>\n",
       "    </tr>\n",
       "    <tr>\n",
       "      <th>1</th>\n",
       "      <td>10007</td>\n",
       "      <td>John</td>\n",
       "      <td>Sears</td>\n",
       "      <td>078 PCT</td>\n",
       "      <td>5952</td>\n",
       "      <td>24601</td>\n",
       "      <td>11</td>\n",
       "      <td>2011</td>\n",
       "      <td>8</td>\n",
       "      <td>2012</td>\n",
       "      <td>...</td>\n",
       "      <td>24</td>\n",
       "      <td>Black</td>\n",
       "      <td>Male</td>\n",
       "      <td>26.0</td>\n",
       "      <td>Discourtesy</td>\n",
       "      <td>Action</td>\n",
       "      <td>67.0</td>\n",
       "      <td>Moving violation</td>\n",
       "      <td>Moving violation summons issued</td>\n",
       "      <td>Substantiated (Charges)</td>\n",
       "    </tr>\n",
       "    <tr>\n",
       "      <th>2</th>\n",
       "      <td>10007</td>\n",
       "      <td>John</td>\n",
       "      <td>Sears</td>\n",
       "      <td>078 PCT</td>\n",
       "      <td>5952</td>\n",
       "      <td>24601</td>\n",
       "      <td>11</td>\n",
       "      <td>2011</td>\n",
       "      <td>8</td>\n",
       "      <td>2012</td>\n",
       "      <td>...</td>\n",
       "      <td>24</td>\n",
       "      <td>Black</td>\n",
       "      <td>Male</td>\n",
       "      <td>26.0</td>\n",
       "      <td>Offensive Language</td>\n",
       "      <td>Race</td>\n",
       "      <td>67.0</td>\n",
       "      <td>Moving violation</td>\n",
       "      <td>Moving violation summons issued</td>\n",
       "      <td>Substantiated (Charges)</td>\n",
       "    </tr>\n",
       "    <tr>\n",
       "      <th>3</th>\n",
       "      <td>10007</td>\n",
       "      <td>John</td>\n",
       "      <td>Sears</td>\n",
       "      <td>078 PCT</td>\n",
       "      <td>5952</td>\n",
       "      <td>26146</td>\n",
       "      <td>7</td>\n",
       "      <td>2012</td>\n",
       "      <td>9</td>\n",
       "      <td>2013</td>\n",
       "      <td>...</td>\n",
       "      <td>25</td>\n",
       "      <td>Black</td>\n",
       "      <td>Male</td>\n",
       "      <td>45.0</td>\n",
       "      <td>Abuse of Authority</td>\n",
       "      <td>Question</td>\n",
       "      <td>67.0</td>\n",
       "      <td>PD suspected C/V of violation/crime - street</td>\n",
       "      <td>No arrest made or summons issued</td>\n",
       "      <td>Substantiated (Charges)</td>\n",
       "    </tr>\n",
       "    <tr>\n",
       "      <th>4</th>\n",
       "      <td>10009</td>\n",
       "      <td>Noemi</td>\n",
       "      <td>Sierra</td>\n",
       "      <td>078 PCT</td>\n",
       "      <td>24058</td>\n",
       "      <td>40253</td>\n",
       "      <td>8</td>\n",
       "      <td>2018</td>\n",
       "      <td>2</td>\n",
       "      <td>2019</td>\n",
       "      <td>...</td>\n",
       "      <td>39</td>\n",
       "      <td>NaN</td>\n",
       "      <td>NaN</td>\n",
       "      <td>16.0</td>\n",
       "      <td>Force</td>\n",
       "      <td>Physical force</td>\n",
       "      <td>67.0</td>\n",
       "      <td>Report-dispute</td>\n",
       "      <td>Arrest - other violation/crime</td>\n",
       "      <td>Substantiated (Command Discipline A)</td>\n",
       "    </tr>\n",
       "  </tbody>\n",
       "</table>\n",
       "<p>5 rows × 27 columns</p>\n",
       "</div>"
      ],
      "text/plain": [
       "   unique_mos_id first_name last_name command_now  shield_no  complaint_id  \\\n",
       "0          10004   Jonathan      Ruiz     078 PCT       8409         42835   \n",
       "1          10007       John     Sears     078 PCT       5952         24601   \n",
       "2          10007       John     Sears     078 PCT       5952         24601   \n",
       "3          10007       John     Sears     078 PCT       5952         26146   \n",
       "4          10009      Noemi    Sierra     078 PCT      24058         40253   \n",
       "\n",
       "   month_received  year_received  month_closed  year_closed  ...  \\\n",
       "0               7           2019             5         2020  ...   \n",
       "1              11           2011             8         2012  ...   \n",
       "2              11           2011             8         2012  ...   \n",
       "3               7           2012             9         2013  ...   \n",
       "4               8           2018             2         2019  ...   \n",
       "\n",
       "  mos_age_incident complainant_ethnicity complainant_gender  \\\n",
       "0               32                 Black             Female   \n",
       "1               24                 Black               Male   \n",
       "2               24                 Black               Male   \n",
       "3               25                 Black               Male   \n",
       "4               39                   NaN                NaN   \n",
       "\n",
       "  complainant_age_incident           fado_type                    allegation  \\\n",
       "0                     38.0  Abuse of Authority  Failure to provide RTKA card   \n",
       "1                     26.0         Discourtesy                        Action   \n",
       "2                     26.0  Offensive Language                          Race   \n",
       "3                     45.0  Abuse of Authority                      Question   \n",
       "4                     16.0               Force                Physical force   \n",
       "\n",
       "  precinct                                contact_reason  \\\n",
       "0     78.0                       Report-domestic dispute   \n",
       "1     67.0                              Moving violation   \n",
       "2     67.0                              Moving violation   \n",
       "3     67.0  PD suspected C/V of violation/crime - street   \n",
       "4     67.0                                Report-dispute   \n",
       "\n",
       "                outcome_description                         board_disposition  \n",
       "0  No arrest made or summons issued  Substantiated (Command Lvl Instructions)  \n",
       "1   Moving violation summons issued                   Substantiated (Charges)  \n",
       "2   Moving violation summons issued                   Substantiated (Charges)  \n",
       "3  No arrest made or summons issued                   Substantiated (Charges)  \n",
       "4    Arrest - other violation/crime      Substantiated (Command Discipline A)  \n",
       "\n",
       "[5 rows x 27 columns]"
      ]
     },
     "execution_count": 4,
     "metadata": {},
     "output_type": "execute_result"
    }
   ],
   "source": [
    "# Portion of the data\n",
    "data.head()"
   ]
  },
  {
   "cell_type": "code",
   "execution_count": 5,
   "metadata": {},
   "outputs": [
    {
     "data": {
      "text/plain": [
       "unique_mos_id                 int64\n",
       "first_name                   object\n",
       "last_name                    object\n",
       "command_now                  object\n",
       "shield_no                     int64\n",
       "complaint_id                  int64\n",
       "month_received                int64\n",
       "year_received                 int64\n",
       "month_closed                  int64\n",
       "year_closed                   int64\n",
       "command_at_incident          object\n",
       "rank_abbrev_incident         object\n",
       "rank_abbrev_now              object\n",
       "rank_now                     object\n",
       "rank_incident                object\n",
       "mos_ethnicity                object\n",
       "mos_gender                   object\n",
       "mos_age_incident              int64\n",
       "complainant_ethnicity        object\n",
       "complainant_gender           object\n",
       "complainant_age_incident    float64\n",
       "fado_type                    object\n",
       "allegation                   object\n",
       "precinct                    float64\n",
       "contact_reason               object\n",
       "outcome_description          object\n",
       "board_disposition            object\n",
       "dtype: object"
      ]
     },
     "execution_count": 5,
     "metadata": {},
     "output_type": "execute_result"
    }
   ],
   "source": [
    "# Datatypes for each column\n",
    "data.dtypes"
   ]
  },
  {
   "cell_type": "markdown",
   "metadata": {},
   "source": [
    "### Data Cleaning and Feature Selection"
   ]
  },
  {
   "cell_type": "code",
   "execution_count": 6,
   "metadata": {},
   "outputs": [],
   "source": [
    "# Data cleaning and deciding which features to use\n",
    "\n",
    "## Creates a date column of month and year (received and closed) in the format \"Month - Year\" then converts string column to datetime\n",
    "data[\"date_received\"] = data.month_received.astype(str) + \"-\" + data.year_received.astype(str)\n",
    "data[\"date_received\"] = pd.to_datetime(data['date_received'])\n",
    "\n",
    "data[\"date_closed\"] = data.month_closed.astype(str) + \"-\" + data.year_closed.astype(str)\n",
    "data[\"date_closed\"] = pd.to_datetime(data['date_closed'])\n",
    "\n",
    "## Creates a column that computes the total time the case was open (in days)\n",
    "data['complaint_length'] = (data.date_closed - data.date_received).dt.days \n",
    "\n",
    "## Cleans \"Unknown values\"\n",
    "data.complainant_ethnicity = (data.complainant_ethnicity.replace(\"Unknown\", np.NaN))\n",
    "\n",
    "## Cleans Missing values from complainant age incident\n",
    "data.complainant_age_incident = data.complainant_age_incident.replace(-1, np.NaN).replace(-4301, np.NaN)\n",
    "\n",
    "## Only uses binary genders\n",
    "data = data[data['complainant_gender'].isin([\"Male\", \"Female\"])]\n",
    "\n",
    "## Encoding Male as 1, female as 0\n",
    "data.complainant_gender = data.complainant_gender.replace({\"Male\":1, \"Female\":0})\n",
    "\n",
    "# features used \n",
    "cols = ['allegation', \n",
    "    'outcome_description', \n",
    "    'mos_ethnicity', \n",
    "    'mos_gender', \n",
    "    'mos_age_incident', \n",
    "    'complainant_ethnicity', \n",
    "    'complainant_age_incident', \n",
    "    'complaint_length', \n",
    "    'complainant_gender']\n",
    "\n",
    "## Portion of the dataset used\n",
    "subdata = data[cols]\n",
    "\n",
    "## Removes null values for models\n",
    "for col in subdata.columns:\n",
    "    subdata = subdata[subdata[col].isnull() == False]"
   ]
  },
  {
   "cell_type": "code",
   "execution_count": 7,
   "metadata": {
    "scrolled": true
   },
   "outputs": [
    {
     "data": {
      "text/html": [
       "<div>\n",
       "<style scoped>\n",
       "    .dataframe tbody tr th:only-of-type {\n",
       "        vertical-align: middle;\n",
       "    }\n",
       "\n",
       "    .dataframe tbody tr th {\n",
       "        vertical-align: top;\n",
       "    }\n",
       "\n",
       "    .dataframe thead th {\n",
       "        text-align: right;\n",
       "    }\n",
       "</style>\n",
       "<table border=\"1\" class=\"dataframe\">\n",
       "  <thead>\n",
       "    <tr style=\"text-align: right;\">\n",
       "      <th></th>\n",
       "      <th>allegation</th>\n",
       "      <th>outcome_description</th>\n",
       "      <th>mos_ethnicity</th>\n",
       "      <th>mos_gender</th>\n",
       "      <th>mos_age_incident</th>\n",
       "      <th>complainant_ethnicity</th>\n",
       "      <th>complainant_age_incident</th>\n",
       "      <th>complaint_length</th>\n",
       "      <th>complainant_gender</th>\n",
       "    </tr>\n",
       "  </thead>\n",
       "  <tbody>\n",
       "    <tr>\n",
       "      <th>0</th>\n",
       "      <td>Failure to provide RTKA card</td>\n",
       "      <td>No arrest made or summons issued</td>\n",
       "      <td>Hispanic</td>\n",
       "      <td>M</td>\n",
       "      <td>32</td>\n",
       "      <td>Black</td>\n",
       "      <td>38.0</td>\n",
       "      <td>305</td>\n",
       "      <td>0</td>\n",
       "    </tr>\n",
       "    <tr>\n",
       "      <th>1</th>\n",
       "      <td>Action</td>\n",
       "      <td>Moving violation summons issued</td>\n",
       "      <td>White</td>\n",
       "      <td>M</td>\n",
       "      <td>24</td>\n",
       "      <td>Black</td>\n",
       "      <td>26.0</td>\n",
       "      <td>274</td>\n",
       "      <td>1</td>\n",
       "    </tr>\n",
       "    <tr>\n",
       "      <th>2</th>\n",
       "      <td>Race</td>\n",
       "      <td>Moving violation summons issued</td>\n",
       "      <td>White</td>\n",
       "      <td>M</td>\n",
       "      <td>24</td>\n",
       "      <td>Black</td>\n",
       "      <td>26.0</td>\n",
       "      <td>274</td>\n",
       "      <td>1</td>\n",
       "    </tr>\n",
       "    <tr>\n",
       "      <th>3</th>\n",
       "      <td>Question</td>\n",
       "      <td>No arrest made or summons issued</td>\n",
       "      <td>White</td>\n",
       "      <td>M</td>\n",
       "      <td>25</td>\n",
       "      <td>Black</td>\n",
       "      <td>45.0</td>\n",
       "      <td>427</td>\n",
       "      <td>1</td>\n",
       "    </tr>\n",
       "    <tr>\n",
       "      <th>5</th>\n",
       "      <td>Refusal to process civilian complaint</td>\n",
       "      <td>No arrest made or summons issued</td>\n",
       "      <td>Black</td>\n",
       "      <td>F</td>\n",
       "      <td>50</td>\n",
       "      <td>White</td>\n",
       "      <td>31.0</td>\n",
       "      <td>153</td>\n",
       "      <td>1</td>\n",
       "    </tr>\n",
       "  </tbody>\n",
       "</table>\n",
       "</div>"
      ],
      "text/plain": [
       "                              allegation               outcome_description  \\\n",
       "0           Failure to provide RTKA card  No arrest made or summons issued   \n",
       "1                                 Action   Moving violation summons issued   \n",
       "2                                   Race   Moving violation summons issued   \n",
       "3                               Question  No arrest made or summons issued   \n",
       "5  Refusal to process civilian complaint  No arrest made or summons issued   \n",
       "\n",
       "  mos_ethnicity mos_gender  mos_age_incident complainant_ethnicity  \\\n",
       "0      Hispanic          M                32                 Black   \n",
       "1         White          M                24                 Black   \n",
       "2         White          M                24                 Black   \n",
       "3         White          M                25                 Black   \n",
       "5         Black          F                50                 White   \n",
       "\n",
       "   complainant_age_incident  complaint_length  complainant_gender  \n",
       "0                      38.0               305                   0  \n",
       "1                      26.0               274                   1  \n",
       "2                      26.0               274                   1  \n",
       "3                      45.0               427                   1  \n",
       "5                      31.0               153                   1  "
      ]
     },
     "execution_count": 7,
     "metadata": {},
     "output_type": "execute_result"
    }
   ],
   "source": [
    "# Portion of dataset used in model\n",
    "subdata.head()"
   ]
  },
  {
   "cell_type": "code",
   "execution_count": 8,
   "metadata": {
    "scrolled": true
   },
   "outputs": [
    {
     "data": {
      "text/html": [
       "<div>\n",
       "<style scoped>\n",
       "    .dataframe tbody tr th:only-of-type {\n",
       "        vertical-align: middle;\n",
       "    }\n",
       "\n",
       "    .dataframe tbody tr th {\n",
       "        vertical-align: top;\n",
       "    }\n",
       "\n",
       "    .dataframe thead th {\n",
       "        text-align: right;\n",
       "    }\n",
       "</style>\n",
       "<table border=\"1\" class=\"dataframe\">\n",
       "  <thead>\n",
       "    <tr style=\"text-align: right;\">\n",
       "      <th></th>\n",
       "      <th>allegation</th>\n",
       "      <th>outcome_description</th>\n",
       "      <th>mos_ethnicity</th>\n",
       "      <th>mos_gender</th>\n",
       "      <th>mos_age_incident</th>\n",
       "      <th>complainant_ethnicity</th>\n",
       "      <th>complainant_age_incident</th>\n",
       "      <th>complaint_length</th>\n",
       "      <th>complainant_gender</th>\n",
       "    </tr>\n",
       "  </thead>\n",
       "  <tbody>\n",
       "    <tr>\n",
       "      <th>0</th>\n",
       "      <td>Failure to provide RTKA card</td>\n",
       "      <td>No arrest made or summons issued</td>\n",
       "      <td>Hispanic</td>\n",
       "      <td>M</td>\n",
       "      <td>32</td>\n",
       "      <td>Black</td>\n",
       "      <td>38.0</td>\n",
       "      <td>305</td>\n",
       "      <td>0</td>\n",
       "    </tr>\n",
       "    <tr>\n",
       "      <th>1</th>\n",
       "      <td>Action</td>\n",
       "      <td>Moving violation summons issued</td>\n",
       "      <td>White</td>\n",
       "      <td>M</td>\n",
       "      <td>24</td>\n",
       "      <td>Black</td>\n",
       "      <td>26.0</td>\n",
       "      <td>274</td>\n",
       "      <td>1</td>\n",
       "    </tr>\n",
       "    <tr>\n",
       "      <th>2</th>\n",
       "      <td>Race</td>\n",
       "      <td>Moving violation summons issued</td>\n",
       "      <td>White</td>\n",
       "      <td>M</td>\n",
       "      <td>24</td>\n",
       "      <td>Black</td>\n",
       "      <td>26.0</td>\n",
       "      <td>274</td>\n",
       "      <td>1</td>\n",
       "    </tr>\n",
       "    <tr>\n",
       "      <th>3</th>\n",
       "      <td>Question</td>\n",
       "      <td>No arrest made or summons issued</td>\n",
       "      <td>White</td>\n",
       "      <td>M</td>\n",
       "      <td>25</td>\n",
       "      <td>Black</td>\n",
       "      <td>45.0</td>\n",
       "      <td>427</td>\n",
       "      <td>1</td>\n",
       "    </tr>\n",
       "    <tr>\n",
       "      <th>5</th>\n",
       "      <td>Refusal to process civilian complaint</td>\n",
       "      <td>No arrest made or summons issued</td>\n",
       "      <td>Black</td>\n",
       "      <td>F</td>\n",
       "      <td>50</td>\n",
       "      <td>White</td>\n",
       "      <td>31.0</td>\n",
       "      <td>153</td>\n",
       "      <td>1</td>\n",
       "    </tr>\n",
       "    <tr>\n",
       "      <th>...</th>\n",
       "      <td>...</td>\n",
       "      <td>...</td>\n",
       "      <td>...</td>\n",
       "      <td>...</td>\n",
       "      <td>...</td>\n",
       "      <td>...</td>\n",
       "      <td>...</td>\n",
       "      <td>...</td>\n",
       "      <td>...</td>\n",
       "    </tr>\n",
       "    <tr>\n",
       "      <th>33353</th>\n",
       "      <td>Word</td>\n",
       "      <td>Moving violation summons issued</td>\n",
       "      <td>White</td>\n",
       "      <td>M</td>\n",
       "      <td>36</td>\n",
       "      <td>Asian</td>\n",
       "      <td>21.0</td>\n",
       "      <td>184</td>\n",
       "      <td>1</td>\n",
       "    </tr>\n",
       "    <tr>\n",
       "      <th>33354</th>\n",
       "      <td>Interference with recording</td>\n",
       "      <td>Moving violation summons issued</td>\n",
       "      <td>White</td>\n",
       "      <td>M</td>\n",
       "      <td>36</td>\n",
       "      <td>Asian</td>\n",
       "      <td>21.0</td>\n",
       "      <td>184</td>\n",
       "      <td>1</td>\n",
       "    </tr>\n",
       "    <tr>\n",
       "      <th>33355</th>\n",
       "      <td>Search (of person)</td>\n",
       "      <td>Moving violation summons issued</td>\n",
       "      <td>White</td>\n",
       "      <td>M</td>\n",
       "      <td>36</td>\n",
       "      <td>Asian</td>\n",
       "      <td>21.0</td>\n",
       "      <td>184</td>\n",
       "      <td>1</td>\n",
       "    </tr>\n",
       "    <tr>\n",
       "      <th>33356</th>\n",
       "      <td>Vehicle search</td>\n",
       "      <td>Moving violation summons issued</td>\n",
       "      <td>White</td>\n",
       "      <td>M</td>\n",
       "      <td>36</td>\n",
       "      <td>Asian</td>\n",
       "      <td>21.0</td>\n",
       "      <td>184</td>\n",
       "      <td>1</td>\n",
       "    </tr>\n",
       "    <tr>\n",
       "      <th>33357</th>\n",
       "      <td>Frisk</td>\n",
       "      <td>Moving violation summons issued</td>\n",
       "      <td>White</td>\n",
       "      <td>M</td>\n",
       "      <td>36</td>\n",
       "      <td>Asian</td>\n",
       "      <td>21.0</td>\n",
       "      <td>184</td>\n",
       "      <td>1</td>\n",
       "    </tr>\n",
       "  </tbody>\n",
       "</table>\n",
       "<p>27396 rows × 9 columns</p>\n",
       "</div>"
      ],
      "text/plain": [
       "                                  allegation  \\\n",
       "0               Failure to provide RTKA card   \n",
       "1                                     Action   \n",
       "2                                       Race   \n",
       "3                                   Question   \n",
       "5      Refusal to process civilian complaint   \n",
       "...                                      ...   \n",
       "33353                                   Word   \n",
       "33354            Interference with recording   \n",
       "33355                     Search (of person)   \n",
       "33356                         Vehicle search   \n",
       "33357                                  Frisk   \n",
       "\n",
       "                    outcome_description mos_ethnicity mos_gender  \\\n",
       "0      No arrest made or summons issued      Hispanic          M   \n",
       "1       Moving violation summons issued         White          M   \n",
       "2       Moving violation summons issued         White          M   \n",
       "3      No arrest made or summons issued         White          M   \n",
       "5      No arrest made or summons issued         Black          F   \n",
       "...                                 ...           ...        ...   \n",
       "33353   Moving violation summons issued         White          M   \n",
       "33354   Moving violation summons issued         White          M   \n",
       "33355   Moving violation summons issued         White          M   \n",
       "33356   Moving violation summons issued         White          M   \n",
       "33357   Moving violation summons issued         White          M   \n",
       "\n",
       "       mos_age_incident complainant_ethnicity  complainant_age_incident  \\\n",
       "0                    32                 Black                      38.0   \n",
       "1                    24                 Black                      26.0   \n",
       "2                    24                 Black                      26.0   \n",
       "3                    25                 Black                      45.0   \n",
       "5                    50                 White                      31.0   \n",
       "...                 ...                   ...                       ...   \n",
       "33353                36                 Asian                      21.0   \n",
       "33354                36                 Asian                      21.0   \n",
       "33355                36                 Asian                      21.0   \n",
       "33356                36                 Asian                      21.0   \n",
       "33357                36                 Asian                      21.0   \n",
       "\n",
       "       complaint_length  complainant_gender  \n",
       "0                   305                   0  \n",
       "1                   274                   1  \n",
       "2                   274                   1  \n",
       "3                   427                   1  \n",
       "5                   153                   1  \n",
       "...                 ...                 ...  \n",
       "33353               184                   1  \n",
       "33354               184                   1  \n",
       "33355               184                   1  \n",
       "33356               184                   1  \n",
       "33357               184                   1  \n",
       "\n",
       "[27396 rows x 9 columns]"
      ]
     },
     "execution_count": 8,
     "metadata": {},
     "output_type": "execute_result"
    }
   ],
   "source": [
    "subdata"
   ]
  },
  {
   "cell_type": "code",
   "execution_count": null,
   "metadata": {},
   "outputs": [],
   "source": []
  },
  {
   "cell_type": "markdown",
   "metadata": {},
   "source": [
    "### Baseline Model"
   ]
  },
  {
   "cell_type": "code",
   "execution_count": 9,
   "metadata": {},
   "outputs": [],
   "source": [
    "# Initalize X and y values\n",
    "X = subdata.drop(\"complainant_gender\", axis = 1)\n",
    "y = subdata.complainant_gender\n",
    "\n",
    "# Split dataset into training and test sets\n",
    "X_train, X_test, y_train, y_test = train_test_split(X,y,test_size = 0.31)"
   ]
  },
  {
   "cell_type": "code",
   "execution_count": 16,
   "metadata": {
    "scrolled": true
   },
   "outputs": [
    {
     "data": {
      "text/html": [
       "<div>\n",
       "<style scoped>\n",
       "    .dataframe tbody tr th:only-of-type {\n",
       "        vertical-align: middle;\n",
       "    }\n",
       "\n",
       "    .dataframe tbody tr th {\n",
       "        vertical-align: top;\n",
       "    }\n",
       "\n",
       "    .dataframe thead th {\n",
       "        text-align: right;\n",
       "    }\n",
       "</style>\n",
       "<table border=\"1\" class=\"dataframe\">\n",
       "  <thead>\n",
       "    <tr style=\"text-align: right;\">\n",
       "      <th></th>\n",
       "      <th>allegation</th>\n",
       "      <th>outcome_description</th>\n",
       "      <th>mos_ethnicity</th>\n",
       "      <th>mos_gender</th>\n",
       "      <th>mos_age_incident</th>\n",
       "      <th>complainant_ethnicity</th>\n",
       "      <th>complainant_age_incident</th>\n",
       "      <th>complaint_length</th>\n",
       "    </tr>\n",
       "  </thead>\n",
       "  <tbody>\n",
       "    <tr>\n",
       "      <th>14217</th>\n",
       "      <td>Frisk</td>\n",
       "      <td>Moving violation summons issued</td>\n",
       "      <td>White</td>\n",
       "      <td>M</td>\n",
       "      <td>25</td>\n",
       "      <td>Hispanic</td>\n",
       "      <td>41.0</td>\n",
       "      <td>151</td>\n",
       "    </tr>\n",
       "    <tr>\n",
       "      <th>4207</th>\n",
       "      <td>Forcible Removal to Hospital</td>\n",
       "      <td>No arrest made or summons issued</td>\n",
       "      <td>White</td>\n",
       "      <td>M</td>\n",
       "      <td>29</td>\n",
       "      <td>Asian</td>\n",
       "      <td>41.0</td>\n",
       "      <td>486</td>\n",
       "    </tr>\n",
       "    <tr>\n",
       "      <th>20869</th>\n",
       "      <td>Refusal to provide name/shield number</td>\n",
       "      <td>Summons - other violation/crime</td>\n",
       "      <td>White</td>\n",
       "      <td>M</td>\n",
       "      <td>28</td>\n",
       "      <td>Black</td>\n",
       "      <td>23.0</td>\n",
       "      <td>181</td>\n",
       "    </tr>\n",
       "    <tr>\n",
       "      <th>11652</th>\n",
       "      <td>Refusal to provide name/shield number</td>\n",
       "      <td>Arrest - other violation/crime</td>\n",
       "      <td>White</td>\n",
       "      <td>M</td>\n",
       "      <td>45</td>\n",
       "      <td>Black</td>\n",
       "      <td>50.0</td>\n",
       "      <td>153</td>\n",
       "    </tr>\n",
       "    <tr>\n",
       "      <th>23153</th>\n",
       "      <td>Interference with recording</td>\n",
       "      <td>Arrest - resisting arrest</td>\n",
       "      <td>Hispanic</td>\n",
       "      <td>M</td>\n",
       "      <td>30</td>\n",
       "      <td>Black</td>\n",
       "      <td>22.0</td>\n",
       "      <td>215</td>\n",
       "    </tr>\n",
       "  </tbody>\n",
       "</table>\n",
       "</div>"
      ],
      "text/plain": [
       "                                  allegation  \\\n",
       "14217                                  Frisk   \n",
       "4207            Forcible Removal to Hospital   \n",
       "20869  Refusal to provide name/shield number   \n",
       "11652  Refusal to provide name/shield number   \n",
       "23153            Interference with recording   \n",
       "\n",
       "                    outcome_description mos_ethnicity mos_gender  \\\n",
       "14217   Moving violation summons issued         White          M   \n",
       "4207   No arrest made or summons issued         White          M   \n",
       "20869   Summons - other violation/crime         White          M   \n",
       "11652    Arrest - other violation/crime         White          M   \n",
       "23153         Arrest - resisting arrest      Hispanic          M   \n",
       "\n",
       "       mos_age_incident complainant_ethnicity  complainant_age_incident  \\\n",
       "14217                25              Hispanic                      41.0   \n",
       "4207                 29                 Asian                      41.0   \n",
       "20869                28                 Black                      23.0   \n",
       "11652                45                 Black                      50.0   \n",
       "23153                30                 Black                      22.0   \n",
       "\n",
       "       complaint_length  \n",
       "14217               151  \n",
       "4207                486  \n",
       "20869               181  \n",
       "11652               153  \n",
       "23153               215  "
      ]
     },
     "execution_count": 16,
     "metadata": {},
     "output_type": "execute_result"
    }
   ],
   "source": [
    "X_train.head()"
   ]
  },
  {
   "cell_type": "code",
   "execution_count": 18,
   "metadata": {},
   "outputs": [
    {
     "data": {
      "text/plain": [
       "14217    1\n",
       "4207     1\n",
       "20869    0\n",
       "11652    0\n",
       "23153    1\n",
       "        ..\n",
       "20181    1\n",
       "17776    1\n",
       "5903     1\n",
       "4520     1\n",
       "33344    1\n",
       "Name: complainant_gender, Length: 18903, dtype: int64"
      ]
     },
     "execution_count": 18,
     "metadata": {},
     "output_type": "execute_result"
    }
   ],
   "source": [
    "y_train"
   ]
  },
  {
   "cell_type": "code",
   "execution_count": 13,
   "metadata": {
    "scrolled": true
   },
   "outputs": [
    {
     "data": {
      "text/plain": [
       "(27396, 8)"
      ]
     },
     "execution_count": 13,
     "metadata": {},
     "output_type": "execute_result"
    }
   ],
   "source": [
    "X.shape"
   ]
  },
  {
   "cell_type": "code",
   "execution_count": 12,
   "metadata": {
    "scrolled": true
   },
   "outputs": [
    {
     "data": {
      "text/plain": [
       "(18903, 8)"
      ]
     },
     "execution_count": 12,
     "metadata": {},
     "output_type": "execute_result"
    }
   ],
   "source": [
    "X_train.shape"
   ]
  },
  {
   "cell_type": "code",
   "execution_count": 14,
   "metadata": {},
   "outputs": [
    {
     "data": {
      "text/plain": [
       "(8493, 8)"
      ]
     },
     "execution_count": 14,
     "metadata": {},
     "output_type": "execute_result"
    }
   ],
   "source": [
    "X_test.shape"
   ]
  },
  {
   "cell_type": "code",
   "execution_count": 9,
   "metadata": {},
   "outputs": [],
   "source": [
    "# Creation of baseline model, \n",
    "\n",
    "# features to be one hot encoded\n",
    "cat_feats = [\"allegation\",\n",
    "             \"outcome_description\",\n",
    "             \"mos_ethnicity\", \n",
    "             \"mos_gender\",\n",
    "             \"complainant_ethnicity\",\n",
    "            ]\n",
    "\n",
    "# preprocessing step\n",
    "preproc = ColumnTransformer(\n",
    "    transformers = [\n",
    "        ('cat', OneHotEncoder(handle_unknown = 'ignore'), cat_feats)\n",
    "    ])\n",
    "\n",
    "# baseline model pipeline\n",
    "pl = Pipeline(steps=[('preprocessor', preproc), ('dtreeclass', DecisionTreeClassifier())])"
   ]
  },
  {
   "cell_type": "code",
   "execution_count": 14,
   "metadata": {},
   "outputs": [],
   "source": [
    "# Improving the model\n",
    "\n",
    "# Parameter testing for decision tree classifier\n",
    "params = {\n",
    "    'dtreeclass__max_depth': [3,4,5],\n",
    "    'dtreeclass__min_samples_split':[3,5,7,10,15]\n",
    "}\n",
    "\n",
    "# gridsearch cross validation with cross validation with 5 folds\n",
    "clf = GridSearchCV(pl, params, cv = 6)"
   ]
  },
  {
   "cell_type": "code",
   "execution_count": 15,
   "metadata": {
    "scrolled": true
   },
   "outputs": [
    {
     "data": {
      "text/plain": [
       "GridSearchCV(cv=6,\n",
       "             estimator=Pipeline(steps=[('preprocessor',\n",
       "                                        ColumnTransformer(transformers=[('cat',\n",
       "                                                                         OneHotEncoder(handle_unknown='ignore'),\n",
       "                                                                         ['allegation',\n",
       "                                                                          'outcome_description',\n",
       "                                                                          'mos_ethnicity',\n",
       "                                                                          'mos_gender',\n",
       "                                                                          'complainant_ethnicity'])])),\n",
       "                                       ('dtreeclass',\n",
       "                                        DecisionTreeClassifier())]),\n",
       "             param_grid={'dtreeclass__max_depth': [3, 4, 5],\n",
       "                         'dtreeclass__min_samples_split': [3, 5, 7, 10, 15]})"
      ]
     },
     "execution_count": 15,
     "metadata": {},
     "output_type": "execute_result"
    }
   ],
   "source": [
    "clf.fit(X_train, y_train)"
   ]
  },
  {
   "cell_type": "code",
   "execution_count": 16,
   "metadata": {},
   "outputs": [
    {
     "data": {
      "text/plain": [
       "15"
      ]
     },
     "execution_count": 16,
     "metadata": {},
     "output_type": "execute_result"
    }
   ],
   "source": [
    "len(clf.cv_results_['mean_test_score'])"
   ]
  },
  {
   "cell_type": "code",
   "execution_count": 17,
   "metadata": {},
   "outputs": [
    {
     "data": {
      "text/plain": [
       "90"
      ]
     },
     "execution_count": 17,
     "metadata": {},
     "output_type": "execute_result"
    }
   ],
   "source": [
    "15*6"
   ]
  },
  {
   "cell_type": "code",
   "execution_count": 465,
   "metadata": {},
   "outputs": [
    {
     "data": {
      "text/plain": [
       "Pipeline(steps=[('preprocessor',\n",
       "                 ColumnTransformer(transformers=[('cat',\n",
       "                                                  OneHotEncoder(handle_unknown='ignore'),\n",
       "                                                  ['allegation',\n",
       "                                                   'outcome_description',\n",
       "                                                   'mos_ethnicity',\n",
       "                                                   'mos_gender',\n",
       "                                                   'complainant_ethnicity'])])),\n",
       "                ('dtreeclass', DecisionTreeClassifier())])"
      ]
     },
     "execution_count": 465,
     "metadata": {},
     "output_type": "execute_result"
    }
   ],
   "source": [
    "# baseline model fitting on training set\n",
    "pl.fit(X_train,y_train)"
   ]
  },
  {
   "cell_type": "code",
   "execution_count": 478,
   "metadata": {
    "scrolled": false
   },
   "outputs": [
    {
     "data": {
      "text/plain": [
       "0.813845966662611"
      ]
     },
     "execution_count": 478,
     "metadata": {},
     "output_type": "execute_result"
    }
   ],
   "source": [
    "# test accuracy of baseline model\n",
    "pl.score(X_test,y_test) "
   ]
  },
  {
   "cell_type": "markdown",
   "metadata": {},
   "source": [
    "### Final Model"
   ]
  },
  {
   "cell_type": "code",
   "execution_count": 469,
   "metadata": {},
   "outputs": [],
   "source": [
    "# scaled features\n",
    "num_feats = [\"mos_age_incident\",\n",
    "             \"complainant_age_incident\",\n",
    "             \"complaint_length\"\n",
    "            ]\n",
    "\n",
    "# preprocessing step\n",
    "preproc2 = ColumnTransformer(\n",
    "    transformers = [\n",
    "        ('cat', OneHotEncoder(handle_unknown = 'ignore'), cat_feats),\n",
    "        ('num', StandardScaler(), num_feats)\n",
    "    ])\n",
    "\n",
    "# intermediate pipeline with random forest and engineered features (without gridsearchcv)\n",
    "pl2 = Pipeline(steps=[('preprocessor', preproc2), ('rfclass', RandomForestClassifier())])"
   ]
  },
  {
   "cell_type": "code",
   "execution_count": 468,
   "metadata": {},
   "outputs": [
    {
     "data": {
      "text/plain": [
       "0.8431682686458206"
      ]
     },
     "execution_count": 468,
     "metadata": {},
     "output_type": "execute_result"
    }
   ],
   "source": [
    "# intermediate model (no grid search cv)\n",
    "pl2.fit(X_train,y_train)\n",
    "pl2.score(X_test, y_test)"
   ]
  },
  {
   "cell_type": "code",
   "execution_count": 470,
   "metadata": {},
   "outputs": [],
   "source": [
    "# Improving the model\n",
    "\n",
    "# Parameter testing for decision tree classifier\n",
    "params = {\n",
    "    'rfclass__max_depth': [3,4,5,6,9,10,12,15,16,18,None],\n",
    "    'rfclass__min_samples_split':[3,5,7,10,15],\n",
    "    'rfclass__min_samples_leaf':[3,5,7,10,15]\n",
    "}\n",
    "\n",
    "# gridsearch cross validation with cross validation with 5 folds\n",
    "clf2 = GridSearchCV(pl2, params, cv = 5)"
   ]
  },
  {
   "cell_type": "code",
   "execution_count": 471,
   "metadata": {
    "scrolled": false
   },
   "outputs": [
    {
     "data": {
      "text/plain": [
       "GridSearchCV(cv=5,\n",
       "             estimator=Pipeline(steps=[('preprocessor',\n",
       "                                        ColumnTransformer(transformers=[('cat',\n",
       "                                                                         OneHotEncoder(handle_unknown='ignore'),\n",
       "                                                                         ['allegation',\n",
       "                                                                          'outcome_description',\n",
       "                                                                          'mos_ethnicity',\n",
       "                                                                          'mos_gender',\n",
       "                                                                          'complainant_ethnicity']),\n",
       "                                                                        ('num',\n",
       "                                                                         StandardScaler(),\n",
       "                                                                         ['mos_age_incident',\n",
       "                                                                          'complainant_age_incident',\n",
       "                                                                          'complaint_length'])])),\n",
       "                                       ('rfclass', RandomForestClassifier())]),\n",
       "             param_grid={'rfclass__max_depth': [3, 4, 5, 6, 9, 10, 12, 15, 16,\n",
       "                                                18, None],\n",
       "                         'rfclass__min_samples_leaf': [3, 5, 7, 10, 15],\n",
       "                         'rfclass__min_samples_split': [3, 5, 7, 10, 15]})"
      ]
     },
     "execution_count": 471,
     "metadata": {},
     "output_type": "execute_result"
    }
   ],
   "source": [
    "# fitting on training set (GRID SEARCH CV)\n",
    "clf2.fit(X_train, y_train)"
   ]
  },
  {
   "cell_type": "code",
   "execution_count": 472,
   "metadata": {
    "scrolled": true
   },
   "outputs": [
    {
     "data": {
      "text/plain": [
       "{'rfclass__max_depth': None,\n",
       " 'rfclass__min_samples_leaf': 3,\n",
       " 'rfclass__min_samples_split': 10}"
      ]
     },
     "execution_count": 472,
     "metadata": {},
     "output_type": "execute_result"
    }
   ],
   "source": [
    "# best parameters found from gridsearch cv\n",
    "clf2.best_params_"
   ]
  },
  {
   "cell_type": "code",
   "execution_count": 474,
   "metadata": {},
   "outputs": [],
   "source": [
    "# final pipeline with best parameters found by GSCV\n",
    "pl_final = Pipeline(\n",
    "    steps=[('preprocessor',preproc2), \n",
    "           ('rfclass',RandomForestClassifier(max_depth=None,min_samples_leaf=3,min_samples_split=10))\n",
    "          ])"
   ]
  },
  {
   "cell_type": "code",
   "execution_count": 475,
   "metadata": {},
   "outputs": [
    {
     "data": {
      "text/plain": [
       "Pipeline(steps=[('preprocessor',\n",
       "                 ColumnTransformer(transformers=[('cat',\n",
       "                                                  OneHotEncoder(handle_unknown='ignore'),\n",
       "                                                  ['allegation',\n",
       "                                                   'outcome_description',\n",
       "                                                   'mos_ethnicity',\n",
       "                                                   'mos_gender',\n",
       "                                                   'complainant_ethnicity']),\n",
       "                                                 ('num', StandardScaler(),\n",
       "                                                  ['mos_age_incident',\n",
       "                                                   'complainant_age_incident',\n",
       "                                                   'complaint_length'])])),\n",
       "                ('rfclass',\n",
       "                 RandomForestClassifier(min_samples_leaf=3,\n",
       "                                        min_samples_split=10))])"
      ]
     },
     "execution_count": 475,
     "metadata": {},
     "output_type": "execute_result"
    }
   ],
   "source": [
    "pl_final.fit(X_train, y_train)"
   ]
  },
  {
   "cell_type": "code",
   "execution_count": 476,
   "metadata": {},
   "outputs": [
    {
     "data": {
      "text/plain": [
       "0.8295413067283125"
      ]
     },
     "execution_count": 476,
     "metadata": {},
     "output_type": "execute_result"
    }
   ],
   "source": [
    "# test accuracy on final pipeline\n",
    "pl_final.score(X_test, y_test)"
   ]
  },
  {
   "cell_type": "markdown",
   "metadata": {},
   "source": [
    "### Fairness Evaluation"
   ]
  },
  {
   "cell_type": "code",
   "execution_count": 483,
   "metadata": {},
   "outputs": [],
   "source": [
    "# Predictions from improved model\n",
    "preds = pl_final.predict(X_test)"
   ]
  },
  {
   "cell_type": "code",
   "execution_count": 484,
   "metadata": {},
   "outputs": [],
   "source": [
    "# Creates a results dataframe \n",
    "results = X_test.copy()\n",
    "\n",
    "# age_bracket divides the individuals by age brackets (bins of size 5 years)\n",
    "results['age_bracket'] = results['complainant_age_incident'].apply(lambda x:5*(x//5 + 1))\n",
    "\n",
    "# prediction gives the prediction results from earlier\n",
    "results['prediction'] = preds\n",
    "\n",
    "# outcome are the actual labels from y_test\n",
    "results['outcome'] = y_test"
   ]
  },
  {
   "cell_type": "code",
   "execution_count": 485,
   "metadata": {},
   "outputs": [
    {
     "data": {
      "text/plain": [
       "array([[0.00876019, 0.16741696],\n",
       "       [0.00304173, 0.82078112]])"
      ]
     },
     "execution_count": 485,
     "metadata": {},
     "output_type": "execute_result"
    }
   ],
   "source": [
    "# Confusion Matrix\n",
    "metrics.confusion_matrix(y_test,preds) / len(preds)"
   ]
  },
  {
   "cell_type": "code",
   "execution_count": 486,
   "metadata": {},
   "outputs": [],
   "source": [
    "# Creates a binary variable depending on if a complainant was younger or equal to 30\n",
    "results['is_young'] = (results['complainant_age_incident'] <= 30).replace({True:'young', False:'old'})"
   ]
  },
  {
   "cell_type": "code",
   "execution_count": 487,
   "metadata": {},
   "outputs": [
    {
     "data": {
      "text/html": [
       "<div>\n",
       "<style scoped>\n",
       "    .dataframe tbody tr th:only-of-type {\n",
       "        vertical-align: middle;\n",
       "    }\n",
       "\n",
       "    .dataframe tbody tr th {\n",
       "        vertical-align: top;\n",
       "    }\n",
       "\n",
       "    .dataframe thead th {\n",
       "        text-align: right;\n",
       "    }\n",
       "</style>\n",
       "<table border=\"1\" class=\"dataframe\">\n",
       "  <thead>\n",
       "    <tr style=\"text-align: right;\">\n",
       "      <th></th>\n",
       "      <th>accuracy</th>\n",
       "    </tr>\n",
       "    <tr>\n",
       "      <th>is_young</th>\n",
       "      <th></th>\n",
       "    </tr>\n",
       "  </thead>\n",
       "  <tbody>\n",
       "    <tr>\n",
       "      <th>old</th>\n",
       "      <td>0.795178</td>\n",
       "    </tr>\n",
       "    <tr>\n",
       "      <th>young</th>\n",
       "      <td>0.862488</td>\n",
       "    </tr>\n",
       "  </tbody>\n",
       "</table>\n",
       "</div>"
      ],
      "text/plain": [
       "          accuracy\n",
       "is_young          \n",
       "old       0.795178\n",
       "young     0.862488"
      ]
     },
     "execution_count": 487,
     "metadata": {},
     "output_type": "execute_result"
    }
   ],
   "source": [
    "#accuracy parity\n",
    "(\n",
    "    results\n",
    "    .groupby('is_young')\n",
    "    .apply(lambda x: metrics.accuracy_score(x.outcome, x.prediction))\n",
    "    .rename('accuracy')\n",
    "    .to_frame()\n",
    ")"
   ]
  },
  {
   "cell_type": "code",
   "execution_count": 488,
   "metadata": {},
   "outputs": [],
   "source": [
    "# permutation testing\n",
    "\n",
    "# observed statistic (accuracy)\n",
    "obs = results.groupby('is_young').apply(lambda x: metrics.accuracy_score(x.outcome, x.prediction)).diff().iloc[-1]\n",
    "\n",
    "metrs = []\n",
    "for _ in range(1000):\n",
    "    s = (\n",
    "        results[['is_young', 'prediction', 'outcome']]\n",
    "        .assign(is_young=results.is_young.sample(frac=1.0, replace=False).reset_index(drop=True))\n",
    "        .groupby('is_young')\n",
    "        .apply(lambda x: metrics.accuracy_score(x.outcome, x.prediction))\n",
    "        .diff()\n",
    "        .iloc[-1]\n",
    "    )\n",
    "    \n",
    "    metrs.append(s)"
   ]
  },
  {
   "cell_type": "code",
   "execution_count": 489,
   "metadata": {
    "scrolled": true
   },
   "outputs": [
    {
     "data": {
      "text/plain": [
       "1.0"
      ]
     },
     "execution_count": 489,
     "metadata": {},
     "output_type": "execute_result"
    }
   ],
   "source": [
    "pd.Series(metrs <= obs).mean() # proportion of sample accuracies less than observed"
   ]
  },
  {
   "cell_type": "code",
   "execution_count": 490,
   "metadata": {},
   "outputs": [
    {
     "data": {
      "text/plain": [
       "0.06731035582578437"
      ]
     },
     "execution_count": 490,
     "metadata": {},
     "output_type": "execute_result"
    }
   ],
   "source": [
    "obs # observed statistic"
   ]
  },
  {
   "cell_type": "code",
   "execution_count": 491,
   "metadata": {},
   "outputs": [
    {
     "data": {
      "image/png": "[encoded data removed]",
      "text/plain": [
       "<Figure size 432x288 with 1 Axes>"
      ]
     },
     "metadata": {
      "image/png": {
       "height": 263,
       "width": 420
      },
      "needs_background": "light"
     },
     "output_type": "display_data"
    }
   ],
   "source": [
    "# histogram of empirical distribution with observed statistic\n",
    "pd.Series(metrs).plot(kind='hist', title='Permutation Test for Gender across young/old complainant groups')\n",
    "plt.scatter(obs, 0, c='r');"
   ]
  },
  {
   "cell_type": "code",
   "execution_count": null,
   "metadata": {},
   "outputs": [],
   "source": []
  }
 ],
 "metadata": {
  "kernelspec": {
   "display_name": "Python 3",
   "language": "python",
   "name": "python3"
  },
  "language_info": {
   "codemirror_mode": {
    "name": "ipython",
    "version": 3
   },
   "file_extension": ".py",
   "mimetype": "text/x-python",
   "name": "python",
   "nbconvert_exporter": "python",
   "pygments_lexer": "ipython3",
   "version": "3.8.3"
  }
 },
 "nbformat": 4,
 "nbformat_minor": 2
}
